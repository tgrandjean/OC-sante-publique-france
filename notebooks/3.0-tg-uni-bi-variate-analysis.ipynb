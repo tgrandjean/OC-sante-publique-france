{
 "cells": [
  {
   "cell_type": "markdown",
   "metadata": {
    "toc-hr-collapsed": false
   },
   "source": [
    "# Projet sante publique france"
   ]
  },
  {
   "cell_type": "markdown",
   "metadata": {},
   "source": [
    "## Déjà réalisé\n",
    "\n"
   ]
  },
  {
   "cell_type": "markdown",
   "metadata": {
    "toc-hr-collapsed": false
   },
   "source": [
    "## Analyses univariées"
   ]
  },
  {
   "cell_type": "code",
   "execution_count": null,
   "metadata": {},
   "outputs": [],
   "source": [
    "import os\n",
    "import re\n",
    "from pprint import pprint\n",
    "\n",
    "from IPython.display import display\n",
    "import matplotlib.pyplot as plt\n",
    "from matplotlib.cbook import boxplot_stats\n",
    "from matplotlib.offsetbox import (TextArea, DrawingArea,\n",
    "                                  OffsetImage, AnnotationBbox)\n",
    "import matplotlib.image as mpimg\n",
    "import numpy as np\n",
    "import pandas as pd\n",
    "import plotly.graph_objects as go\n",
    "import seaborn as sns\n",
    "from tabulate import tabulate\n",
    "import unicodedata\n",
    "from wordcloud import WordCloud\n",
    "\n",
    "from src.features.univar import UnivariateAnalysis\n",
    "from src.visualization import visualize as viz\n",
    "\n",
    "plt.rcdefaults()\n",
    "font = {'size': 16}\n",
    "\n",
    "sns.set()\n",
    "plt.rc('font', **font)"
   ]
  },
  {
   "cell_type": "code",
   "execution_count": null,
   "metadata": {},
   "outputs": [],
   "source": [
    "%matplotlib inline"
   ]
  },
  {
   "cell_type": "code",
   "execution_count": null,
   "metadata": {},
   "outputs": [],
   "source": [
    "pd.options.display.max_rows = 999"
   ]
  },
  {
   "cell_type": "code",
   "execution_count": null,
   "metadata": {},
   "outputs": [],
   "source": [
    "# On récupère les données du second traitement\n",
    "data = pd.read_pickle('../data/interim/products_interimV2.pickle')\n",
    "univar = UnivariateAnalysis(data)"
   ]
  },
  {
   "cell_type": "code",
   "execution_count": null,
   "metadata": {},
   "outputs": [],
   "source": [
    "for col in data.columns:\n",
    "    print(col)"
   ]
  },
  {
   "cell_type": "code",
   "execution_count": null,
   "metadata": {},
   "outputs": [],
   "source": [
    "data.shape"
   ]
  },
  {
   "cell_type": "code",
   "execution_count": null,
   "metadata": {},
   "outputs": [],
   "source": [
    "data['main_category_en'] = data['main_category_en'].astype('category')\n",
    "data['nutriscore_grade'] = data['nutriscore_grade'].astype(pd.CategoricalDtype(ordered=True))"
   ]
  },
  {
   "cell_type": "code",
   "execution_count": null,
   "metadata": {},
   "outputs": [],
   "source": [
    "data['nutriscore_grade']"
   ]
  },
  {
   "cell_type": "code",
   "execution_count": null,
   "metadata": {},
   "outputs": [],
   "source": [
    "data.describe()"
   ]
  },
  {
   "cell_type": "code",
   "execution_count": null,
   "metadata": {},
   "outputs": [],
   "source": [
    "data.head()"
   ]
  },
  {
   "cell_type": "markdown",
   "metadata": {},
   "source": [
    "### Catégories"
   ]
  },
  {
   "cell_type": "code",
   "execution_count": null,
   "metadata": {},
   "outputs": [],
   "source": [
    "wc = WordCloud(width=600, height=600, background_color='white',\n",
    "               min_font_size=5, max_font_size=40, relative_scaling=0.2)\n",
    "wc.generate_from_frequencies(data['main_category_en'].value_counts().to_dict())"
   ]
  },
  {
   "cell_type": "code",
   "execution_count": null,
   "metadata": {},
   "outputs": [],
   "source": [
    "wc.to_image()\n",
    "wc.to_file('../reports/figures/wc_categories.png')"
   ]
  },
  {
   "cell_type": "code",
   "execution_count": null,
   "metadata": {},
   "outputs": [],
   "source": [
    "wc = WordCloud(width=600, height=600, background_color='white',\n",
    "               min_font_size=2, max_font_size=40, relative_scaling=0.5)\n",
    "wc.generate_from_frequencies(data['pnns_groups_2'].value_counts().to_dict())"
   ]
  },
  {
   "cell_type": "code",
   "execution_count": null,
   "metadata": {},
   "outputs": [],
   "source": [
    "wc.to_image()\n",
    "wc.to_file('../reports/figures/wc_pnns_g2.png')"
   ]
  },
  {
   "cell_type": "markdown",
   "metadata": {},
   "source": [
    "### Nutriscore et nutrigrade"
   ]
  },
  {
   "cell_type": "code",
   "execution_count": null,
   "metadata": {},
   "outputs": [],
   "source": [
    "nutscore = [\"#2D7F44\", \"#97BB39\", \"#F4D113\", \"#D67C1C\", \"#C6341B\"]\n",
    "\n",
    "g = viz.RepartitionPlot(data=data, var='nutriscore_grade',\n",
    "                        plot_type='pie')\n",
    "g.plot(colors=nutscore, explode=(0.1, 0, 0, 0, 0),\n",
    "       autopct='%1.1f%%',)\n",
    "plt.savefig('../reports/figures/nutriscore_pie.png')"
   ]
  },
  {
   "cell_type": "markdown",
   "metadata": {},
   "source": [
    "### Valeurs _100g\n",
    "\n",
    "Energie, protéines, graisse, sucres"
   ]
  },
  {
   "cell_type": "code",
   "execution_count": null,
   "metadata": {},
   "outputs": [],
   "source": [
    "for col in data.columns:\n",
    "    if col.endswith('_100g'):\n",
    "        univar.make_analysis(col, save=True)"
   ]
  },
  {
   "cell_type": "code",
   "execution_count": null,
   "metadata": {},
   "outputs": [],
   "source": [
    "for col in data.columns:\n",
    "    if col.endswith('_100g'):\n",
    "        print('=' * 80)\n",
    "        print(col)\n",
    "        var = 'pnns_groups_2'\n",
    "        box_stats = boxplot_stats(data[col]).pop(0)\n",
    "        whishi = box_stats.get('whishi')\n",
    "        whislo = box_stats.get('whislo')\n",
    "        print('whishi', whishi, 'whislo', whislo)\n",
    "        low = data[data[col] < whislo]\n",
    "        high = data[data[col] > whishi]\n",
    "        n_class = high[var].drop_duplicates().shape[0]\n",
    "        if n_class > 5:\n",
    "            n_class = 5\n",
    "            others_cat = True\n",
    "        if low.shape[0] > 0:\n",
    "            g = viz.RepartitionPlot(data=low, var=var,\n",
    "                                    plot_type='bar', max_class=n_class)\n",
    "            g.plot(orient='h', figsize=(5, 2), others_cat=others_cat)\n",
    "            plt.savefig(f'../reports/figures/outliers_low_{col}.png')\n",
    "        elif high.shape[0] > 0:\n",
    "            g = viz.RepartitionPlot(data=high, var=var,\n",
    "                                    plot_type='bar', max_class=n_class)\n",
    "            g.plot(orient='h', figsize=(3, 2), others_cat=others_cat)\n",
    "            plt.savefig(f'../reports/figures/outliers_high_{col}.png')\n",
    "        else:\n",
    "            print(\"No outliers detected\")\n",
    "        print('=' * 80)\n"
   ]
  },
  {
   "cell_type": "markdown",
   "metadata": {},
   "source": [
    "### Marques"
   ]
  },
  {
   "cell_type": "code",
   "execution_count": null,
   "metadata": {},
   "outputs": [],
   "source": [
    "g = viz.RepartitionPlot(data=data, var='brands', plot_type='bar')\n",
    "g.plot(others_cat=False, orient='h')\n",
    "plt.savefig('../reports/figures/brands_repartition.png')"
   ]
  },
  {
   "cell_type": "markdown",
   "metadata": {},
   "source": [
    "### PNNS groups"
   ]
  },
  {
   "cell_type": "code",
   "execution_count": null,
   "metadata": {},
   "outputs": [],
   "source": [
    "g = viz.RepartitionPlot(data=data, var='pnns_groups_1',\n",
    "                        plot_type='bar', max_class=10)\n",
    "g.plot(orient='h', others_cat=False)\n",
    "plt.savefig('../reports/figures/pnns_1_repartition.png')"
   ]
  },
  {
   "cell_type": "code",
   "execution_count": null,
   "metadata": {},
   "outputs": [],
   "source": [
    "g = viz.RepartitionPlot(data=data, var='pnns_groups_2',\n",
    "                        plot_type='bar', max_class=39)\n",
    "g.plot(orient='h', others_cat=False)\n",
    "plt.savefig('../reports/figures/pnns_2_repartition_full.png')"
   ]
  },
  {
   "cell_type": "code",
   "execution_count": null,
   "metadata": {},
   "outputs": [],
   "source": [
    "g = viz.RepartitionPlot(data=data, var='pnns_groups_2',\n",
    "                        plot_type='bar', max_class=12)\n",
    "g.plot(orient='h', others_cat=True)\n",
    "plt.savefig('../reports/figures/pnns_2_repartion_compact.png')"
   ]
  },
  {
   "cell_type": "markdown",
   "metadata": {},
   "source": [
    "## Bivariées"
   ]
  },
  {
   "cell_type": "code",
   "execution_count": null,
   "metadata": {},
   "outputs": [],
   "source": [
    "# TODO: stacked-bar, hue is hardcoded for now"
   ]
  },
  {
   "cell_type": "markdown",
   "metadata": {},
   "source": [
    "### Marques / Nutriscore"
   ]
  },
  {
   "cell_type": "code",
   "execution_count": null,
   "metadata": {},
   "outputs": [],
   "source": [
    "nutriscore_logo = mpimg.imread('../reports/figures/logos/nutriscore.png')"
   ]
  },
  {
   "cell_type": "code",
   "execution_count": null,
   "metadata": {},
   "outputs": [],
   "source": [
    "g = viz.RepartitionPlot(data=data, var='brands',\n",
    "                        plot_type='stacked-bar', max_class=20)\n",
    "g.plot(others_cat=False, colors=nutscore)\n",
    "\n",
    "imagebox = OffsetImage(nutriscore_logo, zoom=0.5)\n",
    "ab = AnnotationBbox(imagebox, (4000, 1))\n",
    "ax = plt.gca()\n",
    "ax.add_artist(ab)\n",
    "ax.legend_ = None\n",
    "plt.savefig('../reports/figures/brands_nutscore_repartition.png')"
   ]
  },
  {
   "cell_type": "code",
   "execution_count": null,
   "metadata": {},
   "outputs": [],
   "source": [
    "g = viz.RepartitionPlot(data=data, var='brands', plot_type='stacked-bar',\n",
    "                        max_class=20)\n",
    "g.plot(others_cat=True, colors=nutscore, frequency=True,\n",
    "       sort='labels', ascending=False)\n",
    "\n",
    "ax = plt.gca()\n",
    "ax.legend_ = None\n",
    "plt.savefig('../reports/figures/brands_nutscore_repartition_freq.png')"
   ]
  },
  {
   "cell_type": "markdown",
   "metadata": {},
   "source": [
    "### PNNS groups / Nutriscore"
   ]
  },
  {
   "cell_type": "code",
   "execution_count": null,
   "metadata": {},
   "outputs": [],
   "source": [
    "g = viz.RepartitionPlot(data=data, var='pnns_groups_1',\n",
    "                        plot_type='stacked-bar', max_class=9)\n",
    "g.plot(others_cat=False, orient='h', colors=nutscore)\n",
    "imagebox = OffsetImage(nutriscore_logo, zoom=0.5)\n",
    "ab = AnnotationBbox(imagebox, (16000, 1))\n",
    "ax = plt.gca()\n",
    "ax.add_artist(ab)\n",
    "ax.legend_ = None\n",
    "plt.savefig('../reports/figures/pnns1_nutscore_repartition.png')"
   ]
  },
  {
   "cell_type": "code",
   "execution_count": null,
   "metadata": {},
   "outputs": [],
   "source": [
    "g = viz.RepartitionPlot(data=data, var='pnns_groups_1',\n",
    "                        plot_type='stacked-bar', max_class=9)\n",
    "g.plot(orient='h', colors=nutscore, others_cat=False, frequency=True,\n",
    "       sort='labels', ascending=False)\n",
    "plt.savefig('../reports/figures/pnns1_nutscore_repartition_freq.png')"
   ]
  },
  {
   "cell_type": "code",
   "execution_count": null,
   "metadata": {},
   "outputs": [],
   "source": [
    "cont = data.groupby(['pnns_groups_1', 'nutriscore_grade'])\\\n",
    ".size().reset_index().pivot(columns='pnns_groups_1', index='nutriscore_grade', values=0)\n",
    "cont = cont.astype(int)"
   ]
  },
  {
   "cell_type": "code",
   "execution_count": null,
   "metadata": {},
   "outputs": [],
   "source": [
    "cont['Sum'] = cont.sum(axis=1)\n",
    "cont.T.to_latex('../reports/latex-report/contingency_tab.tex')"
   ]
  },
  {
   "cell_type": "code",
   "execution_count": null,
   "metadata": {},
   "outputs": [],
   "source": [
    "g = viz.RepartitionPlot(data=data, var='pnns_groups_2',\n",
    "                        plot_type='stacked-bar',\n",
    "                        max_class=45)\n",
    "g.plot(orient='h', colors=nutscore, others_cat=False, frequency=False,\n",
    "       sort='labels', ascending=False, figsize=(10, 12))\n",
    "plt.legend(loc='upper right', bbox_to_anchor=(1.22, 0.5))\n",
    "plt.tight_layout()\n",
    "plt.savefig('../reports/figures/pnns_2_nutscore_repartition.png')"
   ]
  },
  {
   "cell_type": "markdown",
   "metadata": {},
   "source": [
    "### Lien entre la valeur énergétique et les nutriments"
   ]
  },
  {
   "cell_type": "code",
   "execution_count": null,
   "metadata": {},
   "outputs": [],
   "source": [
    "sns.pairplot(data[['energy_100g', 'fat_100g',\n",
    "                   'carbohydrates_100g', 'proteins_100g',\n",
    "                   'nutriscore_grade']], hue=\"nutriscore_grade\",\n",
    "             palette=nutscore)\n",
    "plt.figsave('../reports/figures/relational_plot.png')"
   ]
  },
  {
   "cell_type": "markdown",
   "metadata": {},
   "source": [
    "### Valeur énergétique / Nutriscore"
   ]
  },
  {
   "cell_type": "code",
   "execution_count": null,
   "metadata": {},
   "outputs": [],
   "source": [
    "g = viz.RepartitionPlot(data=data, var='energy_100g', plot_type='boxplot')\n",
    "g.plot(hue='nutriscore_grade', palette=nutscore)\n",
    "plt.xlabel('Nutriscore')\n",
    "plt.ylabel('Energy')\n",
    "plt.savefig('../reports/figures/box_plot_energy_nutscore.png')"
   ]
  },
  {
   "cell_type": "code",
   "execution_count": null,
   "metadata": {},
   "outputs": [],
   "source": [
    "for score in range(ord('a'), ord('f')):\n",
    "    var = 'pnns_groups_2'\n",
    "    others_cat = False\n",
    "    score = chr(score)\n",
    "    print(f'score {score.upper()}')\n",
    "    _data = data[data['nutriscore_grade'] == score]\n",
    "    box_stats = boxplot_stats(_data['energy_100g']).pop(0)\n",
    "    whishi = box_stats.get('whishi')\n",
    "    whislo = box_stats.get('whislo')\n",
    "    print('whishi', whishi, 'whislo', whislo)\n",
    "    low = _data[_data['energy_100g'] < whislo]\n",
    "    high = _data[_data['energy_100g'] > whishi]\n",
    "    n_class = high[var].drop_duplicates().shape[0]\n",
    "    if n_class > 5:\n",
    "            n_class = 5\n",
    "            others_cat = True\n",
    "    if low.shape[0] > 0:\n",
    "        g = viz.RepartitionPlot(data=low, var=var,\n",
    "                                plot_type='bar', max_class=n_class)\n",
    "        g.plot(orient='h', figsize=(5, 2), others_cat=others_cat)\n",
    "        plt.savefig(f'../reports/figures/outliers_low_{score.upper()}.png')\n",
    "    if high.shape[0] > 0:\n",
    "        g = viz.RepartitionPlot(data=high, var=var,\n",
    "                                plot_type='bar', max_class=n_class)\n",
    "        g.plot(orient='h', figsize=(3, 2), others_cat=others_cat)\n",
    "        plt.savefig(f'../reports/figures/outliers_high_{score.upper()}.png')\n",
    "    print('=' * 80)"
   ]
  },
  {
   "cell_type": "markdown",
   "metadata": {},
   "source": [
    "### Valeur énergétique selon le groupe PNNS 1"
   ]
  },
  {
   "cell_type": "code",
   "execution_count": null,
   "metadata": {},
   "outputs": [],
   "source": [
    "fig, axes = plt.subplots(3, 3, sharex=True, sharey=True, figsize=(9, 9))\n",
    "pnns_groups = data['pnns_groups_1'].drop_duplicates().values\n",
    "pnns_groups = pnns_groups.tolist()\n",
    "pnns_groups.remove('unknown')\n",
    "pnns_groups.sort()\n",
    "for group, ax, i in zip(pnns_groups, axes.reshape(-1),\n",
    "                     range(len(pnns_groups))):\n",
    "    # print(group, ax)\n",
    "    _data = data[data['pnns_groups_1'] == group]\n",
    "    sns.distplot(_data['energy_100g'], ax=ax, kde=True)\n",
    "    ax.set_title(group)\n",
    "    if i < 6:\n",
    "        ax.set_xlabel(\"\")\n",
    "plt.subplots_adjust(wspace=0.05, hspace=0.2)\n",
    "plt.savefig('../reports/figures/dist_energy_pnns1.png')"
   ]
  },
  {
   "cell_type": "markdown",
   "metadata": {},
   "source": [
    "### groupes PNNS: catégorie d'aliment et nutriments moyens /100g"
   ]
  },
  {
   "cell_type": "code",
   "execution_count": null,
   "metadata": {},
   "outputs": [],
   "source": [
    "for group in data['pnns_groups_1'].drop_duplicates().values:\n",
    "    print(group)\n",
    "    n_class = len(data[data['pnns_groups_1'] == group]['main_category_en']\\\n",
    "    .drop_duplicates().values)\n",
    "    others_cat = False\n",
    "    if n_class > 5:\n",
    "        n_class = 5\n",
    "        others_cat = True\n",
    "    g = viz.RepartitionPlot(data[data['pnns_groups_1'] == group], \n",
    "                            var='main_category_en', plot_type='bar',\n",
    "                            max_class=n_class)\n",
    "    g.plot(orient='h', figsize=(3, 1.7), others_cat=others_cat)\n",
    "    plt.show()"
   ]
  },
  {
   "cell_type": "code",
   "execution_count": null,
   "metadata": {},
   "outputs": [],
   "source": [
    "for group in data['pnns_groups_1'].drop_duplicates().values:\n",
    "    print(group)\n",
    "    n_class = len(data[data['pnns_groups_1'] == group]['pnns_groups_2']\\\n",
    "    .drop_duplicates().values)\n",
    "    others_cat = False\n",
    "    if n_class > 5:\n",
    "        n_class = 5\n",
    "        others_cat = True\n",
    "    g = viz.RepartitionPlot(data[data['pnns_groups_1'] == group], \n",
    "                            var='pnns_groups_2', plot_type='bar',\n",
    "                            max_class=n_class)\n",
    "    g.plot(orient='h', figsize=(3, 1.7), others_cat=others_cat)\n",
    "    plt.show()"
   ]
  },
  {
   "cell_type": "markdown",
   "metadata": {},
   "source": [
    "Version control"
   ]
  },
  {
   "cell_type": "code",
   "execution_count": null,
   "metadata": {},
   "outputs": [],
   "source": [
    "commit = input('Commit ?')\n",
    "if not commit:\n",
    "    raise ValueError()"
   ]
  },
  {
   "cell_type": "code",
   "execution_count": null,
   "metadata": {},
   "outputs": [],
   "source": [
    "!git commit ./3.0-tg-uni-bi-variate-analysis.ipynb -m \":construction_worker: Analysis almost finished!\""
   ]
  }
 ],
 "metadata": {
  "kernelspec": {
   "display_name": "nutriscore",
   "language": "python",
   "name": "nutriscore"
  },
  "language_info": {
   "codemirror_mode": {
    "name": "ipython",
    "version": 3
   },
   "file_extension": ".py",
   "mimetype": "text/x-python",
   "name": "python",
   "nbconvert_exporter": "python",
   "pygments_lexer": "ipython3",
   "version": "3.6.9"
  },
  "toc-autonumbering": true,
  "toc-showcode": false,
  "toc-showmarkdowntxt": true,
  "toc-showtags": false
 },
 "nbformat": 4,
 "nbformat_minor": 4
}
